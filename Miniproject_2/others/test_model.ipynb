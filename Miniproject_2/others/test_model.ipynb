{
 "cells": [
  {
   "cell_type": "code",
   "execution_count": 1,
   "id": "cc1ca4c0",
   "metadata": {},
   "outputs": [],
   "source": [
    "import sys\n",
    "sys.path.append('../')"
   ]
  },
  {
   "cell_type": "code",
   "execution_count": 2,
   "id": "34d5abe9",
   "metadata": {},
   "outputs": [],
   "source": [
    "import numpy as np\n",
    "import matplotlib.pyplot as plt\n",
    "import time\n",
    "import os\n",
    "import torch\n",
    "import torch.nn as nn\n",
    "from torchsummary import summary\n",
    "import model\n",
    "from utils import evaluate_psnr"
   ]
  },
  {
   "cell_type": "code",
   "execution_count": 3,
   "id": "6a476281",
   "metadata": {},
   "outputs": [],
   "source": [
    "from importlib import reload\n",
    "reload(model);"
   ]
  },
  {
   "cell_type": "code",
   "execution_count": 4,
   "id": "e7a0bbc4",
   "metadata": {},
   "outputs": [
    {
     "name": "stdout",
     "output_type": "stream",
     "text": [
      "Using CPU ❌ 😭\n"
     ]
    }
   ],
   "source": [
    "if torch.cuda.is_available():\n",
    "  device = torch.device('cuda')\n",
    "  print('Using GPU. ✅')\n",
    "else:\n",
    "  device = torch.device('cpu')\n",
    "  print('Using CPU ❌ 😭')"
   ]
  },
  {
   "cell_type": "markdown",
   "id": "d4d85e09",
   "metadata": {},
   "source": [
    "## Load data"
   ]
  },
  {
   "cell_type": "code",
   "execution_count": 5,
   "id": "4f69f7df",
   "metadata": {},
   "outputs": [
    {
     "name": "stdout",
     "output_type": "stream",
     "text": [
      "training size:  50000\n"
     ]
    }
   ],
   "source": [
    "# Load train data\n",
    "TRAIN_PATH = '../../data/train_data.pkl'\n",
    "train_noisy_imgs_input, train_noisy_imgs_target = torch.load(TRAIN_PATH)\n",
    "print('training size: ', train_noisy_imgs_input.shape[0])\n",
    "training_set_size, num_channels, y_size, x_size = train_noisy_imgs_input.shape"
   ]
  },
  {
   "cell_type": "code",
   "execution_count": 6,
   "id": "5e663571",
   "metadata": {},
   "outputs": [
    {
     "name": "stdout",
     "output_type": "stream",
     "text": [
      "validation size:  1000\n"
     ]
    }
   ],
   "source": [
    "# Load validation data\n",
    "VALIDATION_PATH = '../../data/val_data.pkl'\n",
    "validation_noisy_imgs, validation_clean_imgs = torch.load(VALIDATION_PATH)\n",
    "print('validation size: ', validation_clean_imgs.shape[0])"
   ]
  },
  {
   "cell_type": "markdown",
   "id": "0eada6cc",
   "metadata": {},
   "source": [
    "## Torch implementation"
   ]
  },
  {
   "cell_type": "code",
   "execution_count": 7,
   "id": "f917bb3b",
   "metadata": {},
   "outputs": [],
   "source": [
    "class TorchModel():\n",
    "    def __init__(self, **kwargs):\n",
    "        self.model = nn.Sequential(nn.Conv2d(3, 16, 3, stride=2, padding=1),\n",
    "            nn.ReLU(),\n",
    "            nn.Conv2d(16, 32, 3, stride=2, padding=1),\n",
    "            nn.ReLU(),\n",
    "            nn.Upsample(scale_factor=2),\n",
    "            nn.Conv2d(32, 16, 3, padding=1),\n",
    "            nn.ReLU(),\n",
    "            nn.Upsample(scale_factor=2),\n",
    "            nn.Conv2d(16, 3, 3, padding=1),\n",
    "            nn.Sigmoid()\n",
    "            )\n",
    "        self.criterion = nn.MSELoss()\n",
    "\n",
    "        optimizer = kwargs.get('optimizer', 'Adam')\n",
    "        if(optimizer == 'Adam'):\n",
    "            self.optimizer = torch.optim.Adam(self.model.parameters(), lr=1e-2)\n",
    "        elif(optimizer == 'SGD'):\n",
    "            self.optimizer = torch.optim.SGD(self.model.parameters(), lr=1)\n",
    "        else:\n",
    "            raise ValueError('Optimizer not implemented')\n",
    "\n",
    "    def load_pretrained_model(self):\n",
    "        ## This loads the parameters saved in bestmodel.pth into the model\n",
    "        self.model = torch.load('bestmodel.pth')\n",
    "\n",
    "    def train(self, train_input, train_target, num_epochs, **kwargs):\n",
    "        # train ̇input: tensor of size (N, C, H, W) containing a noisy version of the images.\n",
    "        # train target: tensor of size (N, C, H, W) containing another noisy version of the\n",
    "        # same images, which only differs from the input by their noise.\n",
    "        train_input = train_input / 255.0\n",
    "        train_target = train_target / 255.0\n",
    "        batch_size = kwargs.get('batch_size', 32)\n",
    "        self.losses = []\n",
    "        avg_loss = 0\n",
    "        \n",
    "        for e in range(num_epochs):\n",
    "            print('Doing epoch %d'%e)\n",
    "            for b, (input, target) in enumerate(zip(train_input.split(batch_size),\n",
    "                                                    train_target.split(batch_size))):\n",
    "                output = self.model(input)\n",
    "                loss = self.criterion(output, target)\n",
    "                avg_loss += loss.item()\n",
    "\n",
    "                # make step\n",
    "                self.optimizer.zero_grad()\n",
    "                loss.backward()\n",
    "                self.optimizer.step()\n",
    "\n",
    "                b_freq = 5\n",
    "                if b % b_freq == 0 and (b+e) > 0:\n",
    "                    self.losses.append(avg_loss / b_freq)\n",
    "                    avg_loss = 0\n",
    "                    b % 50 == 0 and kwargs.get('debug', False) and print(self.losses[-1])\n",
    "\n",
    "    def predict(self, test_input):\n",
    "        #:test ̇input: tensor of size (N1, C, H, W) that has to be denoised by the trained\n",
    "        # or the loaded network.\n",
    "        #: returns a tensor of the size (N1, C, H, W)\n",
    "        return self.model(test_input / 255.0) * 255.0"
   ]
  },
  {
   "cell_type": "code",
   "execution_count": 8,
   "id": "0de3f559",
   "metadata": {},
   "outputs": [
    {
     "name": "stdout",
     "output_type": "stream",
     "text": [
      "----------------------------------------------------------------\n",
      "        Layer (type)               Output Shape         Param #\n",
      "================================================================\n",
      "            Conv2d-1           [-1, 16, 16, 16]             448\n",
      "              ReLU-2           [-1, 16, 16, 16]               0\n",
      "            Conv2d-3             [-1, 32, 8, 8]           4,640\n",
      "              ReLU-4             [-1, 32, 8, 8]               0\n",
      "          Upsample-5           [-1, 32, 16, 16]               0\n",
      "            Conv2d-6           [-1, 16, 16, 16]           4,624\n",
      "              ReLU-7           [-1, 16, 16, 16]               0\n",
      "          Upsample-8           [-1, 16, 32, 32]               0\n",
      "            Conv2d-9            [-1, 3, 32, 32]             435\n",
      "          Sigmoid-10            [-1, 3, 32, 32]               0\n",
      "================================================================\n",
      "Total params: 10,147\n",
      "Trainable params: 10,147\n",
      "Non-trainable params: 0\n",
      "----------------------------------------------------------------\n",
      "Input size (MB): 0.01\n",
      "Forward/backward pass size (MB): 0.39\n",
      "Params size (MB): 0.04\n",
      "Estimated Total Size (MB): 0.44\n",
      "----------------------------------------------------------------\n"
     ]
    }
   ],
   "source": [
    "summary(TorchModel().model, (3, 32, 32))"
   ]
  },
  {
   "cell_type": "markdown",
   "id": "04bee0fc",
   "metadata": {},
   "source": [
    "## Training"
   ]
  },
  {
   "cell_type": "code",
   "execution_count": 9,
   "id": "bb550bcd",
   "metadata": {},
   "outputs": [],
   "source": [
    "if not(os.path.exists('modules')):\n",
    "    os.mkdir('modules')"
   ]
  },
  {
   "cell_type": "code",
   "execution_count": 13,
   "id": "883e5485",
   "metadata": {},
   "outputs": [],
   "source": [
    "def set_model(model_name):\n",
    "  if (model_name=='Ours_Adam'):\n",
    "    torch.set_grad_enabled(False)\n",
    "    net = model.Model(optimizer='Adam')\n",
    "  elif (model_name=='Ours_SGD'):\n",
    "    torch.set_grad_enabled(False)\n",
    "    net = model.Model(optimizer='SGD')\n",
    "  elif (model_name=='Torch_Adam'):\n",
    "    torch.set_grad_enabled(True)\n",
    "    net = TorchModel(optimizer='Adam')\n",
    "  elif (model_name=='Torch_SGD'):\n",
    "    torch.set_grad_enabled(True)\n",
    "    net = TorchModel(optimizer='SGD')\n",
    "  else:\n",
    "    raise ValueError('Invalid model name!')\n",
    "\n",
    "  net.model.to(device)\n",
    "  net.criterion.to(device)\n",
    "  return net"
   ]
  },
  {
   "cell_type": "code",
   "execution_count": 14,
   "id": "e5b1eea1",
   "metadata": {},
   "outputs": [],
   "source": [
    "# model_name = 'Ours_Adam'\n",
    "# model_name = 'Ours_SGD'\n",
    "model_name = 'Torch_Adam'\n",
    "# model_name = 'Torch_SGD'"
   ]
  },
  {
   "cell_type": "code",
   "execution_count": null,
   "id": "1694339a",
   "metadata": {},
   "outputs": [],
   "source": [
    "nb_epochs = 10\n",
    "\n",
    "train_start_time_ms = time.perf_counter()\n",
    "net = set_model(model_name)\n",
    "net.train(train_noisy_imgs_input, train_noisy_imgs_target, nb_epochs)\n",
    "train_end_time_ms = time.perf_counter()\n",
    "training_time = train_end_time_ms - train_start_time_ms\n",
    "print('Training took: ', training_time, 's')\n",
    "\n",
    "# Save model \n",
    "checkpoint = {'model': net.model.state_dict(),\n",
    "              'optimizer' : net.optimizer.state_dict(),\n",
    "              'losses' : net.losses\n",
    "              }\n",
    "torch.save(checkpoint, 'models/' + model_name + '_' + '.pth')"
   ]
  },
  {
   "cell_type": "markdown",
   "id": "06c670c2",
   "metadata": {},
   "source": [
    "## Evaluation"
   ]
  },
  {
   "cell_type": "code",
   "execution_count": 26,
   "id": "4f785a8d",
   "metadata": {},
   "outputs": [],
   "source": [
    "if not(os.path.exists('figures')):\n",
    "    os.mkdir('figures')"
   ]
  },
  {
   "cell_type": "code",
   "execution_count": 30,
   "id": "d1030c1f",
   "metadata": {},
   "outputs": [],
   "source": [
    "def load_model(model_name, model_path):\n",
    "    if (model_name=='Ours_Adam'):\n",
    "        net = model.Model(optimizer='Adam')\n",
    "    elif (model_name=='Ours_SGD'):\n",
    "        net = model.Model(optimizer='SGD')\n",
    "    elif (model_name=='Torch_Adam'):\n",
    "        net = TorchModel(optimizer='Adam')\n",
    "    elif (model_name=='Torch_SGD'):\n",
    "        net = TorchModel(optimizer='SGD')\n",
    "    else:\n",
    "        raise ValueError('Invalid model name!')\n",
    "\n",
    "    checkpoint = torch.load(model_path, map_location=device)\n",
    "    net.model.load_state_dict(checkpoint['model'])\n",
    "    net.batch_size = checkpoint['batch_size']\n",
    "    net.losses = checkpoint['losses']\n",
    "    return net"
   ]
  },
  {
   "cell_type": "code",
   "execution_count": null,
   "id": "03f12802",
   "metadata": {},
   "outputs": [],
   "source": [
    "model_name = 'Ours_Adam'\n",
    "# model_name = 'Ours_SGD'\n",
    "# model_name = 'Torch_Adam'\n",
    "# model_name = 'Torch_SGD'\n",
    "net = load_model(model_name, model_path='models/' + model_name + '_' + '.pth')"
   ]
  },
  {
   "cell_type": "code",
   "execution_count": null,
   "id": "57d001c8",
   "metadata": {},
   "outputs": [],
   "source": [
    "evaluate_psnr(net, validation_noisy_imgs, validation_clean_imgs)"
   ]
  },
  {
   "cell_type": "code",
   "execution_count": null,
   "id": "16cf9d1c",
   "metadata": {},
   "outputs": [],
   "source": [
    "fig = plt.figure()\n",
    "xs = np.arange(len(net.losses)) / train_noisy_imgs_input.shape[0] * 32 * 5\n",
    "plt.plot(xs, net.losses)\n",
    "plt.xlabel('Epoch')\n",
    "plt.ylabel('Loss')\n",
    "plt.show()"
   ]
  },
  {
   "cell_type": "code",
   "execution_count": null,
   "id": "1be13b28",
   "metadata": {},
   "outputs": [],
   "source": [
    "test_input = validation_noisy_imgs\n",
    "test_target = validation_clean_imgs\n",
    "\n",
    "nr = 3\n",
    "denoised = net.predict(test_input[nr, :, :, :].unsqueeze(dim=0))\n",
    "\n",
    "fig, ax = plt.subplots(1, 3, figsize=(13,5))\n",
    "ax[0].imshow(test_input[nr,:,:,:].permute(1,2,0).cpu(), cmap='gray')\n",
    "ax[0].set_title('Input')\n",
    "ax[1].imshow(denoised[0,:,:,:].permute(1,2,0).cpu().detach().numpy(), cmap='gray')\n",
    "ax[1].set_title('Denoised')\n",
    "ax[2].imshow(test_target[nr, :, :, :].permute(1,2,0).cpu(), cmap='gray')\n",
    "ax[2].set_title('Target')\n",
    "plt.show()"
   ]
  }
 ],
 "metadata": {
  "interpreter": {
   "hash": "924c84e30a2a0a804f16c763f19e96b94813a24908351fd66a7500b9fea63b2a"
  },
  "kernelspec": {
   "display_name": "Python 3.8.12 ('base')",
   "language": "python",
   "name": "python3"
  },
  "language_info": {
   "codemirror_mode": {
    "name": "ipython",
    "version": 3
   },
   "file_extension": ".py",
   "mimetype": "text/x-python",
   "name": "python",
   "nbconvert_exporter": "python",
   "pygments_lexer": "ipython3",
   "version": "3.8.12"
  }
 },
 "nbformat": 4,
 "nbformat_minor": 5
}
