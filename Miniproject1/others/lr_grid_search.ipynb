{
 "cells": [
  {
   "cell_type": "code",
   "execution_count": 1,
   "metadata": {},
   "outputs": [
    {
     "ename": "ModuleNotFoundError",
     "evalue": "No module named 'pandas'",
     "output_type": "error",
     "traceback": [
      "\u001b[0;31m---------------------------------------------------------------------------\u001b[0m",
      "\u001b[0;31mModuleNotFoundError\u001b[0m                       Traceback (most recent call last)",
      "\u001b[0;32m/var/folders/jd/z25nw7dx5w9bd064vtrxbjvw0000gq/T/ipykernel_51733/2675427858.py\u001b[0m in \u001b[0;36m<module>\u001b[0;34m\u001b[0m\n\u001b[1;32m      2\u001b[0m \u001b[0;32mfrom\u001b[0m \u001b[0mtorch\u001b[0m \u001b[0;32mimport\u001b[0m \u001b[0mnn\u001b[0m\u001b[0;34m\u001b[0m\u001b[0;34m\u001b[0m\u001b[0m\n\u001b[1;32m      3\u001b[0m \u001b[0;32mfrom\u001b[0m \u001b[0mdatetime\u001b[0m \u001b[0;32mimport\u001b[0m \u001b[0mdatetime\u001b[0m\u001b[0;34m\u001b[0m\u001b[0;34m\u001b[0m\u001b[0m\n\u001b[0;32m----> 4\u001b[0;31m \u001b[0;32mimport\u001b[0m \u001b[0mpandas\u001b[0m \u001b[0;32mas\u001b[0m \u001b[0mpd\u001b[0m\u001b[0;34m\u001b[0m\u001b[0;34m\u001b[0m\u001b[0m\n\u001b[0m",
      "\u001b[0;31mModuleNotFoundError\u001b[0m: No module named 'pandas'"
     ]
    }
   ],
   "source": [
    "import torch\n",
    "from torch import nn\n",
    "from datetime import datetime"
   ]
  },
  {
   "cell_type": "code",
   "execution_count": 4,
   "metadata": {},
   "outputs": [
    {
     "name": "stdout",
     "output_type": "stream",
     "text": [
      "Using CPU ❌ 😭\n"
     ]
    }
   ],
   "source": [
    "import sys\n",
    "import os\n",
    "sys.path.append('../')\n",
    "import model\n",
    "from utils import evaluate_psnr"
   ]
  },
  {
   "cell_type": "code",
   "execution_count": 5,
   "metadata": {},
   "outputs": [
    {
     "name": "stdout",
     "output_type": "stream",
     "text": [
      "Using CPU ❌ 😭\n"
     ]
    }
   ],
   "source": [
    "if torch.cuda.is_available():\n",
    "  device = torch.device('cuda')\n",
    "  print('Using GPU. ✅')\n",
    "else:\n",
    "  device = torch.device('cpu')\n",
    "  print('Using CPU ❌ 😭')"
   ]
  },
  {
   "cell_type": "code",
   "execution_count": 6,
   "metadata": {},
   "outputs": [
    {
     "name": "stdout",
     "output_type": "stream",
     "text": [
      "Number of loaded images:  50000\n"
     ]
    }
   ],
   "source": [
    "# Load train data\n",
    "TRAIN_PATH = '../../miniproject_dataset/train_data.pkl'\n",
    "train_noisy_imgs_input, train_noisy_imgs_target = torch.load(TRAIN_PATH, map_location=device)\n",
    "training_set_size,num_channels,y_size,x_size = train_noisy_imgs_input.shape\n",
    "print('Number of loaded images: ', train_noisy_imgs_input.shape[0])"
   ]
  },
  {
   "cell_type": "code",
   "execution_count": 7,
   "metadata": {},
   "outputs": [
    {
     "name": "stdout",
     "output_type": "stream",
     "text": [
      "Number of validation images:  1000\n"
     ]
    }
   ],
   "source": [
    "# Load validation data\n",
    "VALIDATION_PATH = '../../miniproject_dataset/val_data.pkl'\n",
    "validation_noisy_imgs, validation_clean_imgs = torch.load(VALIDATION_PATH, map_location=device)\n",
    "print('Number of validation images: ', validation_clean_imgs.shape[0])"
   ]
  },
  {
   "cell_type": "code",
   "execution_count": 8,
   "metadata": {},
   "outputs": [
    {
     "name": "stdout",
     "output_type": "stream",
     "text": [
      "Learning rate =  9.999999747378752e-05\n",
      "Epoch 0, loss = 0.01559\n",
      "Epoch 1, loss = 0.01335\n",
      "Epoch 2, loss = 0.01007\n",
      "Epoch 3, loss = 0.00777\n",
      "Epoch 4, loss = 0.00593\n",
      "Epoch 5, loss = 0.00500\n",
      "Epoch 6, loss = 0.00472\n",
      "Epoch 7, loss = 0.00460\n",
      "Epoch 8, loss = 0.00449\n",
      "Epoch 9, loss = 0.00436\n",
      "Epoch 10, loss = 0.00423\n",
      "Epoch 11, loss = 0.00411\n",
      "Epoch 12, loss = 0.00399\n",
      "Epoch 13, loss = 0.00387\n",
      "Epoch 14, loss = 0.00381\n",
      "Epoch 15, loss = 0.00372\n",
      "Epoch 16, loss = 0.00365\n",
      "Epoch 17, loss = 0.00357\n",
      "Epoch 18, loss = 0.00349\n",
      "Epoch 19, loss = 0.00341\n",
      "Epoch 20, loss = 0.00334\n",
      "Epoch 21, loss = 0.00328\n",
      "Epoch 22, loss = 0.00322\n",
      "Epoch 23, loss = 0.00315\n",
      "Epoch 24, loss = 0.00310\n",
      "Epoch 25, loss = 0.00304\n",
      "Epoch 26, loss = 0.00299\n",
      "Epoch 27, loss = 0.00293\n",
      "Epoch 28, loss = 0.00288\n",
      "Epoch 29, loss = 0.00283\n",
      "Epoch 30, loss = 0.00278\n",
      "Epoch 31, loss = 0.00273\n",
      "Epoch 32, loss = 0.00268\n",
      "Epoch 33, loss = 0.00264\n",
      "Epoch 34, loss = 0.00262\n",
      "Epoch 35, loss = 0.00257\n",
      "Epoch 36, loss = 0.00253\n",
      "Epoch 37, loss = 0.00250\n",
      "Epoch 38, loss = 0.00247\n",
      "Epoch 39, loss = 0.00244\n",
      "Epoch 40, loss = 0.00241\n",
      "Epoch 41, loss = 0.00239\n",
      "Epoch 42, loss = 0.00236\n",
      "Epoch 43, loss = 0.00233\n",
      "Epoch 44, loss = 0.00231\n",
      "Epoch 45, loss = 0.00229\n",
      "Epoch 46, loss = 0.00227\n",
      "Epoch 47, loss = 0.00226\n",
      "Epoch 48, loss = 0.00223\n",
      "Epoch 49, loss = 0.00222\n",
      "Training took:  0:00:07.358076\n",
      "Peak signal-to-noise =  20.3482666015625  dB\n",
      "Epoch 0, loss = 0.02072\n",
      "Epoch 1, loss = 0.01924\n",
      "Epoch 2, loss = 0.01737\n",
      "Epoch 3, loss = 0.01267\n",
      "Epoch 4, loss = 0.00739\n",
      "Epoch 5, loss = 0.00651\n",
      "Epoch 6, loss = 0.00535\n",
      "Epoch 7, loss = 0.00531\n",
      "Epoch 8, loss = 0.00476\n",
      "Epoch 9, loss = 0.00447\n",
      "Epoch 10, loss = 0.00430\n",
      "Epoch 11, loss = 0.00411\n",
      "Epoch 12, loss = 0.00402\n",
      "Epoch 13, loss = 0.00390\n",
      "Epoch 14, loss = 0.00378\n",
      "Epoch 15, loss = 0.00369\n",
      "Epoch 16, loss = 0.00359\n",
      "Epoch 17, loss = 0.00351\n",
      "Epoch 18, loss = 0.00342\n",
      "Epoch 19, loss = 0.00333\n",
      "Epoch 20, loss = 0.00325\n",
      "Epoch 21, loss = 0.00317\n",
      "Epoch 22, loss = 0.00311\n",
      "Epoch 23, loss = 0.00305\n",
      "Epoch 24, loss = 0.00300\n",
      "Epoch 25, loss = 0.00295\n",
      "Epoch 26, loss = 0.00290\n"
     ]
    },
    {
     "ename": "KeyboardInterrupt",
     "evalue": "",
     "output_type": "error",
     "traceback": [
      "\u001b[0;31m---------------------------------------------------------------------------\u001b[0m",
      "\u001b[0;31mKeyboardInterrupt\u001b[0m                         Traceback (most recent call last)",
      "\u001b[0;32m/var/folders/jd/z25nw7dx5w9bd064vtrxbjvw0000gq/T/ipykernel_51733/3309479114.py\u001b[0m in \u001b[0;36m<module>\u001b[0;34m\u001b[0m\n\u001b[1;32m     14\u001b[0m     \u001b[0mnet\u001b[0m\u001b[0;34m.\u001b[0m\u001b[0mmodel\u001b[0m\u001b[0;34m.\u001b[0m\u001b[0mtrain\u001b[0m\u001b[0;34m(\u001b[0m\u001b[0;34m)\u001b[0m\u001b[0;34m\u001b[0m\u001b[0;34m\u001b[0m\u001b[0m\n\u001b[1;32m     15\u001b[0m     \u001b[0mtrain_start_time_ms\u001b[0m \u001b[0;34m=\u001b[0m \u001b[0mdatetime\u001b[0m\u001b[0;34m.\u001b[0m\u001b[0mnow\u001b[0m\u001b[0;34m(\u001b[0m\u001b[0;34m)\u001b[0m\u001b[0;34m\u001b[0m\u001b[0;34m\u001b[0m\u001b[0m\n\u001b[0;32m---> 16\u001b[0;31m     \u001b[0mnet\u001b[0m\u001b[0;34m.\u001b[0m\u001b[0mtrain\u001b[0m\u001b[0;34m(\u001b[0m\u001b[0mtrain_noisy_imgs_input\u001b[0m\u001b[0;34m[\u001b[0m\u001b[0;34m:\u001b[0m\u001b[0;36m100\u001b[0m\u001b[0;34m]\u001b[0m\u001b[0;34m,\u001b[0m \u001b[0mtrain_noisy_imgs_target\u001b[0m\u001b[0;34m[\u001b[0m\u001b[0;34m:\u001b[0m\u001b[0;36m100\u001b[0m\u001b[0;34m]\u001b[0m\u001b[0;34m,\u001b[0m \u001b[0mnb_epochs\u001b[0m\u001b[0;34m)\u001b[0m\u001b[0;34m\u001b[0m\u001b[0;34m\u001b[0m\u001b[0m\n\u001b[0m\u001b[1;32m     17\u001b[0m \u001b[0;34m\u001b[0m\u001b[0m\n\u001b[1;32m     18\u001b[0m     \u001b[0mtrain_end_time_ms\u001b[0m \u001b[0;34m=\u001b[0m \u001b[0mdatetime\u001b[0m\u001b[0;34m.\u001b[0m\u001b[0mnow\u001b[0m\u001b[0;34m(\u001b[0m\u001b[0;34m)\u001b[0m\u001b[0;34m\u001b[0m\u001b[0;34m\u001b[0m\u001b[0m\n",
      "\u001b[0;32m~/Documents/EPFL/MA2/3_DeepLearning/project/Proj_338157_338681_311699/Miniproject1/others/../model.py\u001b[0m in \u001b[0;36mtrain\u001b[0;34m(self, train_input, train_target, num_epochs)\u001b[0m\n\u001b[1;32m    202\u001b[0m             \u001b[0;31m# make step\u001b[0m\u001b[0;34m\u001b[0m\u001b[0;34m\u001b[0m\u001b[0;34m\u001b[0m\u001b[0m\n\u001b[1;32m    203\u001b[0m             \u001b[0mself\u001b[0m\u001b[0;34m.\u001b[0m\u001b[0moptimizer\u001b[0m\u001b[0;34m.\u001b[0m\u001b[0mzero_grad\u001b[0m\u001b[0;34m(\u001b[0m\u001b[0;34m)\u001b[0m\u001b[0;34m\u001b[0m\u001b[0;34m\u001b[0m\u001b[0m\n\u001b[0;32m--> 204\u001b[0;31m             \u001b[0mloss\u001b[0m\u001b[0;34m.\u001b[0m\u001b[0mbackward\u001b[0m\u001b[0;34m(\u001b[0m\u001b[0;34m)\u001b[0m\u001b[0;34m\u001b[0m\u001b[0;34m\u001b[0m\u001b[0m\n\u001b[0m\u001b[1;32m    205\u001b[0m             \u001b[0mself\u001b[0m\u001b[0;34m.\u001b[0m\u001b[0moptimizer\u001b[0m\u001b[0;34m.\u001b[0m\u001b[0mstep\u001b[0m\u001b[0;34m(\u001b[0m\u001b[0;34m)\u001b[0m\u001b[0;34m\u001b[0m\u001b[0;34m\u001b[0m\u001b[0m\n\u001b[1;32m    206\u001b[0m         \u001b[0mprint\u001b[0m\u001b[0;34m(\u001b[0m\u001b[0;34m'Epoch %d, loss = %.5f'\u001b[0m\u001b[0;34m%\u001b[0m\u001b[0;34m(\u001b[0m\u001b[0me\u001b[0m\u001b[0;34m,\u001b[0m\u001b[0mself\u001b[0m\u001b[0;34m.\u001b[0m\u001b[0mlosses\u001b[0m\u001b[0;34m[\u001b[0m\u001b[0me\u001b[0m\u001b[0;34m]\u001b[0m\u001b[0;34m)\u001b[0m\u001b[0;34m)\u001b[0m\u001b[0;34m\u001b[0m\u001b[0;34m\u001b[0m\u001b[0m\n",
      "\u001b[0;32m~/opt/anaconda3/envs/torch/lib/python3.8/site-packages/torch/_tensor.py\u001b[0m in \u001b[0;36mbackward\u001b[0;34m(self, gradient, retain_graph, create_graph, inputs)\u001b[0m\n\u001b[1;32m    305\u001b[0m                 \u001b[0mcreate_graph\u001b[0m\u001b[0;34m=\u001b[0m\u001b[0mcreate_graph\u001b[0m\u001b[0;34m,\u001b[0m\u001b[0;34m\u001b[0m\u001b[0;34m\u001b[0m\u001b[0m\n\u001b[1;32m    306\u001b[0m                 inputs=inputs)\n\u001b[0;32m--> 307\u001b[0;31m         \u001b[0mtorch\u001b[0m\u001b[0;34m.\u001b[0m\u001b[0mautograd\u001b[0m\u001b[0;34m.\u001b[0m\u001b[0mbackward\u001b[0m\u001b[0;34m(\u001b[0m\u001b[0mself\u001b[0m\u001b[0;34m,\u001b[0m \u001b[0mgradient\u001b[0m\u001b[0;34m,\u001b[0m \u001b[0mretain_graph\u001b[0m\u001b[0;34m,\u001b[0m \u001b[0mcreate_graph\u001b[0m\u001b[0;34m,\u001b[0m \u001b[0minputs\u001b[0m\u001b[0;34m=\u001b[0m\u001b[0minputs\u001b[0m\u001b[0;34m)\u001b[0m\u001b[0;34m\u001b[0m\u001b[0;34m\u001b[0m\u001b[0m\n\u001b[0m\u001b[1;32m    308\u001b[0m \u001b[0;34m\u001b[0m\u001b[0m\n\u001b[1;32m    309\u001b[0m     \u001b[0;32mdef\u001b[0m \u001b[0mregister_hook\u001b[0m\u001b[0;34m(\u001b[0m\u001b[0mself\u001b[0m\u001b[0;34m,\u001b[0m \u001b[0mhook\u001b[0m\u001b[0;34m)\u001b[0m\u001b[0;34m:\u001b[0m\u001b[0;34m\u001b[0m\u001b[0;34m\u001b[0m\u001b[0m\n",
      "\u001b[0;32m~/opt/anaconda3/envs/torch/lib/python3.8/site-packages/torch/autograd/__init__.py\u001b[0m in \u001b[0;36mbackward\u001b[0;34m(tensors, grad_tensors, retain_graph, create_graph, grad_variables, inputs)\u001b[0m\n\u001b[1;32m    152\u001b[0m         \u001b[0mretain_graph\u001b[0m \u001b[0;34m=\u001b[0m \u001b[0mcreate_graph\u001b[0m\u001b[0;34m\u001b[0m\u001b[0;34m\u001b[0m\u001b[0m\n\u001b[1;32m    153\u001b[0m \u001b[0;34m\u001b[0m\u001b[0m\n\u001b[0;32m--> 154\u001b[0;31m     Variable._execution_engine.run_backward(\n\u001b[0m\u001b[1;32m    155\u001b[0m         \u001b[0mtensors\u001b[0m\u001b[0;34m,\u001b[0m \u001b[0mgrad_tensors_\u001b[0m\u001b[0;34m,\u001b[0m \u001b[0mretain_graph\u001b[0m\u001b[0;34m,\u001b[0m \u001b[0mcreate_graph\u001b[0m\u001b[0;34m,\u001b[0m \u001b[0minputs\u001b[0m\u001b[0;34m,\u001b[0m\u001b[0;34m\u001b[0m\u001b[0;34m\u001b[0m\u001b[0m\n\u001b[1;32m    156\u001b[0m         allow_unreachable=True, accumulate_grad=True)  # allow_unreachable flag\n",
      "\u001b[0;31mKeyboardInterrupt\u001b[0m: "
     ]
    }
   ],
   "source": [
    "nb_epochs = 50\n",
    "learning_rates = torch.tensor([0.1e-3, 0.5e-3, 1.625e-3, 2.75e-3, 3.875e-3, 5.0e-3])\n",
    "results = torch.zeros((learning_rates.size(0),5))\n",
    "\n",
    "for l in range(learning_rates.size(0)):\n",
    "  lr = learning_rates[l]\n",
    "  print('Learning rate = ',lr.item())\n",
    "  for i in range(5):\n",
    "    net = model.Model()\n",
    "    net.lr = lr\n",
    "    net.model.to(device)\n",
    "    net.criterion.to(device)\n",
    "\n",
    "    net.model.train()\n",
    "    train_start_time_ms = datetime.now()\n",
    "    net.train(train_noisy_imgs_input, train_noisy_imgs_target, nb_epochs)\n",
    "\n",
    "    train_end_time_ms = datetime.now()\n",
    "    training_time = train_end_time_ms - train_start_time_ms\n",
    "    print('Training took: ', training_time)\n",
    "\n",
    "    net.model.eval()\n",
    "    # Evaluate model\n",
    "    psnr = evaluate_psnr(net, validation_noisy_imgs, validation_clean_imgs)\n",
    "    results[l,i] = psnr\n",
    "    print('Peak signal-to-noise = ',psnr.item(),' dB')"
   ]
  },
  {
   "cell_type": "code",
   "execution_count": null,
   "metadata": {},
   "outputs": [],
   "source": []
  }
 ],
 "metadata": {
  "interpreter": {
   "hash": "acfe92269f81c14c1da641bcdeea7054536793d098adac16197277be1ca70a80"
  },
  "kernelspec": {
   "display_name": "Python 3.8.12 ('torch')",
   "language": "python",
   "name": "python3"
  },
  "language_info": {
   "codemirror_mode": {
    "name": "ipython",
    "version": 3
   },
   "file_extension": ".py",
   "mimetype": "text/x-python",
   "name": "python",
   "nbconvert_exporter": "python",
   "pygments_lexer": "ipython3",
   "version": "3.8.12"
  },
  "orig_nbformat": 4
 },
 "nbformat": 4,
 "nbformat_minor": 2
}
