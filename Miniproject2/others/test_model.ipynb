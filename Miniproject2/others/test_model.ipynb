{
 "cells": [
  {
   "cell_type": "code",
   "execution_count": 108,
   "id": "cc1ca4c0",
   "metadata": {},
   "outputs": [],
   "source": [
    "import sys\n",
    "from os import path\n",
    "sys.path.append(path.dirname(path.dirname(path.abspath('model.py'))))"
   ]
  },
  {
   "cell_type": "code",
   "execution_count": 109,
   "id": "34d5abe9",
   "metadata": {},
   "outputs": [],
   "source": [
    "import numpy as np\n",
    "import matplotlib.pyplot as plt\n",
    "import torch\n",
    "import torch.nn as nn\n",
    "import model"
   ]
  },
  {
   "cell_type": "code",
   "execution_count": 110,
   "id": "6a476281",
   "metadata": {},
   "outputs": [],
   "source": [
    "from importlib import reload\n",
    "reload(model);"
   ]
  },
  {
   "cell_type": "markdown",
   "id": "d4d85e09",
   "metadata": {},
   "source": [
    "# Load training data"
   ]
  },
  {
   "cell_type": "code",
   "execution_count": 111,
   "id": "4f69f7df",
   "metadata": {},
   "outputs": [
    {
     "name": "stdout",
     "output_type": "stream",
     "text": [
      "training size:  50000\n"
     ]
    }
   ],
   "source": [
    "# Load train data\n",
    "TRAIN_PATH = '../../data/train_data.pkl'\n",
    "train_noisy_imgs_input, train_noisy_imgs_target = torch.load(TRAIN_PATH)\n",
    "train_noisy_imgs_input = train_noisy_imgs_input/255\n",
    "train_noisy_imgs_target = train_noisy_imgs_target/255\n",
    "print('training size: ', train_noisy_imgs_input.shape[0])\n",
    "training_set_size, num_channels, y_size, x_size = train_noisy_imgs_input.shape"
   ]
  },
  {
   "cell_type": "code",
   "execution_count": 112,
   "id": "5e663571",
   "metadata": {},
   "outputs": [
    {
     "name": "stdout",
     "output_type": "stream",
     "text": [
      "validation size:  1000\n"
     ]
    }
   ],
   "source": [
    "# Load validation data\n",
    "VALIDATION_PATH = '../../data/val_data.pkl'\n",
    "validation_noisy_imgs, validation_clean_imgs = torch.load(VALIDATION_PATH)\n",
    "validation_noisy_imgs = validation_noisy_imgs/255\n",
    "validation_clean_imgs = validation_clean_imgs/255\n",
    "print('validation size: ', validation_clean_imgs.shape[0])"
   ]
  },
  {
   "cell_type": "markdown",
   "id": "fe8c35f1",
   "metadata": {},
   "source": [
    "## Our implementation"
   ]
  },
  {
   "cell_type": "code",
   "execution_count": 113,
   "id": "40c11146",
   "metadata": {},
   "outputs": [
    {
     "name": "stdout",
     "output_type": "stream",
     "text": [
      "1 torch.Size([3])\n",
      "Doing epoch 0\n",
      "0.03416059724986553\n",
      "0.023737766593694688\n",
      "0.02792607359588146\n",
      "0.021855510026216506\n",
      "0.01802092883735895\n",
      "0.021062519028782846\n",
      "0.018901627138257028\n",
      "0.01906663030385971\n",
      "0.02043801136314869\n",
      "0.01932147704064846\n",
      "0.02068367563188076\n",
      "0.020343869924545288\n",
      "0.019477807730436326\n",
      "0.02135586887598038\n",
      "0.019006825610995294\n",
      "0.019003413245081903\n",
      "0.01708924174308777\n",
      "0.019480497390031815\n",
      "0.019605193845927717\n",
      "0.02022012062370777\n",
      "0.019304240867495537\n",
      "0.018535823002457617\n",
      "0.019429220631718636\n",
      "0.01762049291282892\n",
      "0.01745726987719536\n",
      "0.017859629169106484\n",
      "0.01888497807085514\n",
      "0.01694780495017767\n",
      "0.016827811487019062\n",
      "0.01975800357758999\n",
      "0.018087771907448768\n",
      "Doing epoch 1\n",
      "0.010925079509615899\n",
      "0.017136934958398343\n",
      "0.017892586067318916\n",
      "0.019236105680465698\n",
      "0.018260089680552483\n",
      "0.015487369336187839\n",
      "0.01818620041012764\n",
      "0.015715941600501538\n",
      "0.016885547526180746\n",
      "0.01800471916794777\n",
      "0.016687592305243016\n",
      "0.01805661842226982\n",
      "0.017573988065123558\n",
      "0.01753460578620434\n",
      "0.01941380798816681\n",
      "0.017475989647209644\n",
      "0.017232584580779076\n",
      "0.014934186637401582\n",
      "0.018245575204491615\n",
      "0.01832392569631338\n",
      "0.018356924504041673\n",
      "0.01798088103532791\n",
      "0.017515461333096026\n",
      "0.018882986158132553\n",
      "0.016451389342546464\n",
      "0.017468822374939918\n",
      "0.01714598834514618\n",
      "0.01785320173949003\n",
      "0.016980086639523505\n",
      "0.0160279281437397\n",
      "0.01964268833398819\n",
      "0.017941449582576752\n",
      "Doing epoch 2\n",
      "0.010588077083230018\n",
      "0.016347014158964158\n",
      "0.017429033666849135\n",
      "0.017802223190665246\n",
      "0.017844679579138756\n",
      "0.015239775367081165\n",
      "0.017331487871706484\n",
      "0.015087515860795975\n",
      "0.01736056189984083\n",
      "0.017895157635211944\n",
      "0.016410304605960845\n",
      "0.017758871242403985\n",
      "0.01749367415904999\n",
      "0.017314784601330756\n",
      "0.018719323538243772\n",
      "0.016907499358057975\n",
      "0.016947776079177856\n",
      "0.014703822135925294\n",
      "0.017037398740649225\n",
      "0.018716653808951378\n",
      "0.017893420532345772\n",
      "0.017557065933942795\n",
      "0.017183671332895757\n",
      "0.01861053444445133\n",
      "0.01614607945084572\n",
      "0.016709569841623306\n",
      "0.016813571378588677\n",
      "0.017886204086244105\n",
      "0.016399324499070646\n",
      "0.015820267237722875\n",
      "0.01820315308868885\n",
      "0.017580303922295572\n",
      "Doing epoch 3\n",
      "0.01049690693616867\n",
      "0.016319997049868105\n",
      "0.017141841165721417\n",
      "0.017090105824172495\n",
      "0.017459728941321372\n",
      "0.015209994651377201\n",
      "0.01703659351915121\n",
      "0.015011443756520748\n",
      "0.017186743952333928\n",
      "0.01753300931304693\n",
      "0.016150802187621594\n",
      "0.017538130283355713\n",
      "0.016988389194011688\n",
      "0.01701673474162817\n",
      "0.0186068894341588\n",
      "0.016865373589098454\n",
      "0.016987552121281623\n",
      "0.014685684256255627\n",
      "0.017002868838608264\n",
      "0.017935380898416044\n",
      "0.017773448303341866\n",
      "0.017709851637482642\n",
      "0.01721354350447655\n",
      "0.018413106352090834\n",
      "0.016076019033789635\n",
      "0.016796911135315895\n",
      "0.016581438295543195\n",
      "0.017829003743827343\n",
      "0.015960024297237398\n",
      "0.015591349825263024\n",
      "0.01808229126036167\n",
      "0.0172428485006094\n",
      "Doing epoch 4\n",
      "0.010445090383291245\n",
      "0.016237823851406576\n",
      "0.017008541151881218\n",
      "0.017037818022072316\n",
      "0.017360300198197363\n",
      "0.015142150595784188\n",
      "0.017024157755076885\n",
      "0.014965167455375194\n",
      "0.01642449665814638\n",
      "0.01757134273648262\n",
      "0.016186163946986198\n",
      "0.017299757152795792\n",
      "0.016914865747094155\n"
     ]
    },
    {
     "ename": "KeyboardInterrupt",
     "evalue": "",
     "output_type": "error",
     "traceback": [
      "\u001b[0;31m---------------------------------------------------------------------------\u001b[0m",
      "\u001b[0;31mKeyboardInterrupt\u001b[0m                         Traceback (most recent call last)",
      "\u001b[0;32m/var/folders/cx/500d947x7sz2w1kz1n78cgwr0000gn/T/ipykernel_98061/3949830219.py\u001b[0m in \u001b[0;36m<module>\u001b[0;34m\u001b[0m\n\u001b[1;32m      1\u001b[0m \u001b[0mourModel\u001b[0m \u001b[0;34m=\u001b[0m \u001b[0mmodel\u001b[0m\u001b[0;34m.\u001b[0m\u001b[0mModel\u001b[0m\u001b[0;34m(\u001b[0m\u001b[0;34m)\u001b[0m\u001b[0;34m\u001b[0m\u001b[0;34m\u001b[0m\u001b[0m\n\u001b[0;32m----> 2\u001b[0;31m \u001b[0mourModel\u001b[0m\u001b[0;34m.\u001b[0m\u001b[0mtrain\u001b[0m\u001b[0;34m(\u001b[0m\u001b[0mtrain_noisy_imgs_input\u001b[0m\u001b[0;34m,\u001b[0m \u001b[0mtrain_noisy_imgs_target\u001b[0m\u001b[0;34m,\u001b[0m \u001b[0mnum_epochs\u001b[0m\u001b[0;34m=\u001b[0m\u001b[0;36m10\u001b[0m\u001b[0;34m,\u001b[0m \u001b[0mdebug\u001b[0m\u001b[0;34m=\u001b[0m\u001b[0;32mTrue\u001b[0m\u001b[0;34m)\u001b[0m\u001b[0;34m\u001b[0m\u001b[0;34m\u001b[0m\u001b[0m\n\u001b[0m",
      "\u001b[0;32m~/Documents/EPFL/DL/Proj_338157_338681_311699/Miniproject2/model.py\u001b[0m in \u001b[0;36mtrain\u001b[0;34m(self, train_input, train_target, num_epochs, **kwargs)\u001b[0m\n\u001b[1;32m    391\u001b[0m         \u001b[0;32mreturn\u001b[0m \u001b[0mself\u001b[0m\u001b[0;34m.\u001b[0m\u001b[0mmodel\u001b[0m\u001b[0;34m(\u001b[0m\u001b[0mtest_input\u001b[0m\u001b[0;34m)\u001b[0m\u001b[0;34m\u001b[0m\u001b[0;34m\u001b[0m\u001b[0m\n",
      "\u001b[0;32m~/Documents/EPFL/DL/Proj_338157_338681_311699/Miniproject2/model.py\u001b[0m in \u001b[0;36mbackward\u001b[0;34m(self, *gradwrtoutput)\u001b[0m\n\u001b[1;32m     47\u001b[0m         \u001b[0mx\u001b[0m \u001b[0;34m=\u001b[0m \u001b[0mgradwrtoutput\u001b[0m\u001b[0;34m[\u001b[0m\u001b[0;36m0\u001b[0m\u001b[0;34m]\u001b[0m\u001b[0;34m\u001b[0m\u001b[0;34m\u001b[0m\u001b[0m\n\u001b[1;32m     48\u001b[0m         \u001b[0;32mfor\u001b[0m \u001b[0mlayer\u001b[0m \u001b[0;32min\u001b[0m \u001b[0mself\u001b[0m\u001b[0;34m.\u001b[0m\u001b[0mlayers\u001b[0m\u001b[0;34m[\u001b[0m\u001b[0;34m:\u001b[0m\u001b[0;34m:\u001b[0m\u001b[0;34m-\u001b[0m\u001b[0;36m1\u001b[0m\u001b[0;34m]\u001b[0m\u001b[0;34m:\u001b[0m\u001b[0;34m\u001b[0m\u001b[0;34m\u001b[0m\u001b[0m\n\u001b[0;32m---> 49\u001b[0;31m             \u001b[0mx\u001b[0m \u001b[0;34m=\u001b[0m \u001b[0mlayer\u001b[0m\u001b[0;34m.\u001b[0m\u001b[0mbackward\u001b[0m\u001b[0;34m(\u001b[0m\u001b[0mx\u001b[0m\u001b[0;34m)\u001b[0m\u001b[0;34m\u001b[0m\u001b[0;34m\u001b[0m\u001b[0m\n\u001b[0m\u001b[1;32m     50\u001b[0m         \u001b[0;32mreturn\u001b[0m \u001b[0mx\u001b[0m\u001b[0;34m\u001b[0m\u001b[0;34m\u001b[0m\u001b[0m\n\u001b[1;32m     51\u001b[0m \u001b[0;34m\u001b[0m\u001b[0m\n",
      "\u001b[0;32m~/Documents/EPFL/DL/Proj_338157_338681_311699/Miniproject2/model.py\u001b[0m in \u001b[0;36mbackward\u001b[0;34m(self, *gradwrtoutput)\u001b[0m\n\u001b[1;32m     47\u001b[0m         \u001b[0mx\u001b[0m \u001b[0;34m=\u001b[0m \u001b[0mgradwrtoutput\u001b[0m\u001b[0;34m[\u001b[0m\u001b[0;36m0\u001b[0m\u001b[0;34m]\u001b[0m\u001b[0;34m\u001b[0m\u001b[0;34m\u001b[0m\u001b[0m\n\u001b[1;32m     48\u001b[0m         \u001b[0;32mfor\u001b[0m \u001b[0mlayer\u001b[0m \u001b[0;32min\u001b[0m \u001b[0mself\u001b[0m\u001b[0;34m.\u001b[0m\u001b[0mlayers\u001b[0m\u001b[0;34m[\u001b[0m\u001b[0;34m:\u001b[0m\u001b[0;34m:\u001b[0m\u001b[0;34m-\u001b[0m\u001b[0;36m1\u001b[0m\u001b[0;34m]\u001b[0m\u001b[0;34m:\u001b[0m\u001b[0;34m\u001b[0m\u001b[0;34m\u001b[0m\u001b[0m\n\u001b[0;32m---> 49\u001b[0;31m             \u001b[0mx\u001b[0m \u001b[0;34m=\u001b[0m \u001b[0mlayer\u001b[0m\u001b[0;34m.\u001b[0m\u001b[0mbackward\u001b[0m\u001b[0;34m(\u001b[0m\u001b[0mx\u001b[0m\u001b[0;34m)\u001b[0m\u001b[0;34m\u001b[0m\u001b[0;34m\u001b[0m\u001b[0m\n\u001b[0m\u001b[1;32m     50\u001b[0m         \u001b[0;32mreturn\u001b[0m \u001b[0mx\u001b[0m\u001b[0;34m\u001b[0m\u001b[0;34m\u001b[0m\u001b[0m\n\u001b[1;32m     51\u001b[0m \u001b[0;34m\u001b[0m\u001b[0m\n",
      "\u001b[0;32m~/Documents/EPFL/DL/Proj_338157_338681_311699/Miniproject2/model.py\u001b[0m in \u001b[0;36mbackward\u001b[0;34m(self, *gradwrtoutput)\u001b[0m\n\u001b[1;32m    174\u001b[0m \u001b[0;34m\u001b[0m\u001b[0m\n\u001b[1;32m    175\u001b[0m         \u001b[0;31m# Calculate weight and bias updates\u001b[0m\u001b[0;34m\u001b[0m\u001b[0;34m\u001b[0m\u001b[0;34m\u001b[0m\u001b[0m\n\u001b[0;32m--> 176\u001b[0;31m         \u001b[0mself\u001b[0m\u001b[0;34m.\u001b[0m\u001b[0mweight\u001b[0m\u001b[0;34m.\u001b[0m\u001b[0mgrad\u001b[0m \u001b[0;34m+=\u001b[0m \u001b[0;34m(\u001b[0m\u001b[0mgradwrtoutput_unfolded\u001b[0m \u001b[0;34m@\u001b[0m \u001b[0minput_unfolded\u001b[0m\u001b[0;34m.\u001b[0m\u001b[0mtranspose\u001b[0m\u001b[0;34m(\u001b[0m\u001b[0;36m1\u001b[0m\u001b[0;34m,\u001b[0m\u001b[0;36m2\u001b[0m\u001b[0;34m)\u001b[0m\u001b[0;34m)\u001b[0m\u001b[0;34m.\u001b[0m\u001b[0msum\u001b[0m\u001b[0;34m(\u001b[0m\u001b[0maxis\u001b[0m\u001b[0;34m=\u001b[0m\u001b[0;36m0\u001b[0m\u001b[0;34m)\u001b[0m\u001b[0;34m.\u001b[0m\u001b[0mview\u001b[0m\u001b[0;34m(\u001b[0m\u001b[0mself\u001b[0m\u001b[0;34m.\u001b[0m\u001b[0mweight\u001b[0m\u001b[0;34m.\u001b[0m\u001b[0mshape\u001b[0m\u001b[0;34m)\u001b[0m\u001b[0;34m\u001b[0m\u001b[0;34m\u001b[0m\u001b[0m\n\u001b[0m\u001b[1;32m    177\u001b[0m         \u001b[0mself\u001b[0m\u001b[0;34m.\u001b[0m\u001b[0mbias\u001b[0m\u001b[0;34m.\u001b[0m\u001b[0mgrad\u001b[0m \u001b[0;34m+=\u001b[0m \u001b[0mgradwrtoutput_unfolded\u001b[0m\u001b[0;34m.\u001b[0m\u001b[0msum\u001b[0m\u001b[0;34m(\u001b[0m\u001b[0maxis\u001b[0m\u001b[0;34m=\u001b[0m\u001b[0;34m(\u001b[0m\u001b[0;36m0\u001b[0m\u001b[0;34m,\u001b[0m\u001b[0;36m2\u001b[0m\u001b[0;34m)\u001b[0m\u001b[0;34m)\u001b[0m\u001b[0;34m.\u001b[0m\u001b[0mview\u001b[0m\u001b[0;34m(\u001b[0m\u001b[0mself\u001b[0m\u001b[0;34m.\u001b[0m\u001b[0mbias\u001b[0m\u001b[0;34m.\u001b[0m\u001b[0mshape\u001b[0m\u001b[0;34m)\u001b[0m\u001b[0;34m\u001b[0m\u001b[0;34m\u001b[0m\u001b[0m\n\u001b[1;32m    178\u001b[0m         \u001b[0mgradwrtinput_unfolded\u001b[0m \u001b[0;34m=\u001b[0m \u001b[0;34m(\u001b[0m\u001b[0mkernel\u001b[0m\u001b[0;34m.\u001b[0m\u001b[0mtranspose\u001b[0m\u001b[0;34m(\u001b[0m\u001b[0;36m0\u001b[0m\u001b[0;34m,\u001b[0m\u001b[0;36m1\u001b[0m\u001b[0;34m)\u001b[0m \u001b[0;34m@\u001b[0m \u001b[0mgradwrtoutput_unfolded\u001b[0m\u001b[0;34m)\u001b[0m\u001b[0;34m\u001b[0m\u001b[0;34m\u001b[0m\u001b[0m\n",
      "\u001b[0;31mKeyboardInterrupt\u001b[0m: "
     ]
    }
   ],
   "source": [
    "ourModel = model.Model()\n",
    "ourModel.train(train_noisy_imgs_input, train_noisy_imgs_target, num_epochs=10, debug=True)"
   ]
  },
  {
   "cell_type": "code",
   "execution_count": 114,
   "id": "25e4cde7",
   "metadata": {},
   "outputs": [
    {
     "data": {
      "image/png": "[encoded data removed]",
      "text/plain": [
       "<Figure size 432x288 with 1 Axes>"
      ]
     },
     "metadata": {
      "needs_background": "light"
     },
     "output_type": "display_data"
    }
   ],
   "source": [
    "fig = plt.figure()\n",
    "xs = np.arange(len(ourModel.losses)) / train_noisy_imgs_input.shape[0] * 32 * 5\n",
    "plt.plot(xs, ourModel.losses)\n",
    "plt.xlabel('Epoch')\n",
    "plt.ylabel('Loss')\n",
    "plt.show()"
   ]
  },
  {
   "cell_type": "code",
   "execution_count": 115,
   "id": "c8f340ea",
   "metadata": {},
   "outputs": [
    {
     "data": {
      "image/png": "[encoded data removed]",
      "text/plain": [
       "<Figure size 936x360 with 3 Axes>"
      ]
     },
     "metadata": {
      "needs_background": "light"
     },
     "output_type": "display_data"
    }
   ],
   "source": [
    "test_input = validation_noisy_imgs\n",
    "test_target = validation_clean_imgs\n",
    "\n",
    "nr = 3\n",
    "denoised = ourModel.predict(test_input[nr, :, :, :].unsqueeze(dim=0))\n",
    "\n",
    "fig, ax = plt.subplots(1, 3, figsize=(13,5))\n",
    "ax[0].imshow(test_input[nr,:,:,:].permute(1,2,0).cpu(), cmap='gray')\n",
    "ax[0].set_title('Input test')\n",
    "ax[1].imshow(denoised[0,:,:,:].permute(1,2,0).cpu().detach().numpy(), cmap='gray')\n",
    "ax[1].set_title('Our amaazing denoised output')\n",
    "ax[2].imshow(test_target[nr, :, :, :].permute(1,2,0).cpu(), cmap='gray')\n",
    "ax[2].set_title('Clean image')\n",
    "plt.show()"
   ]
  },
  {
   "cell_type": "code",
   "execution_count": 116,
   "id": "a2331c31",
   "metadata": {},
   "outputs": [],
   "source": [
    "def evaluate(denoised, target):\n",
    "    mse = torch.mean((denoised - target) ** 2)\n",
    "    return -10 * torch.log10(mse + 10**-8)"
   ]
  },
  {
   "cell_type": "code",
   "execution_count": 118,
   "id": "fb6d0fdb",
   "metadata": {},
   "outputs": [
    {
     "data": {
      "text/plain": [
       "tensor(22.3254)"
      ]
     },
     "execution_count": 118,
     "metadata": {},
     "output_type": "execute_result"
    }
   ],
   "source": [
    "denoised = ourModel.predict(test_input)\n",
    "evaluate(denoised, test_target)"
   ]
  },
  {
   "cell_type": "code",
   "execution_count": null,
   "id": "dbc7dddc",
   "metadata": {},
   "outputs": [],
   "source": [
    "torch.save(ourModel.model, 'bestmodel.pt')"
   ]
  },
  {
   "cell_type": "markdown",
   "id": "0eada6cc",
   "metadata": {},
   "source": [
    "## Torch implementation"
   ]
  },
  {
   "cell_type": "code",
   "execution_count": null,
   "id": "6b47bc08",
   "metadata": {},
   "outputs": [],
   "source": [
    "torch.set_grad_enabled(True)\n",
    "torch_model = nn.Sequential(nn.Conv2d(3, 16, 3, stride=2, padding=1),\n",
    "            nn.ReLU(),\n",
    "            nn.Conv2d(16, 32, 3, stride=2, padding=1),\n",
    "            nn.ReLU(),\n",
    "            nn.Upsample(scale_factor=2),\n",
    "            nn.Conv2d(32, 16, 3, padding=1),\n",
    "            nn.ReLU(),\n",
    "            nn.Upsample(scale_factor=2),\n",
    "            nn.Conv2d(16, 3, 3, padding=1),\n",
    "            #   nn.Sigmoid()\n",
    "            )\n",
    "\n",
    "# optimizer = torch.optim.SGD(torch_model.parameters(), lr = 1e-3)\n",
    "optimizer = torch.optim.Adam(torch_model.parameters())\n",
    "criterion = nn.MSELoss()"
   ]
  },
  {
   "cell_type": "code",
   "execution_count": null,
   "id": "0de3f559",
   "metadata": {},
   "outputs": [],
   "source": [
    "summary(torch_model, (3, 32, 32))"
   ]
  },
  {
   "cell_type": "code",
   "execution_count": null,
   "id": "6e8a23e6",
   "metadata": {},
   "outputs": [
    {
     "name": "stdout",
     "output_type": "stream",
     "text": [
      "Doing epoch 0\n",
      "0.042914129048585894\n",
      "0.03158733993768692\n",
      "0.023401154950261117\n",
      "0.0220021765679121\n",
      "0.017801524698734285\n",
      "0.01998330168426037\n",
      "0.017317947186529636\n",
      "0.018325603380799294\n",
      "0.01916312798857689\n",
      "0.017769525572657586\n",
      "0.018753566592931748\n",
      "0.01802377589046955\n",
      "0.018148651346564293\n",
      "0.019640375673770905\n",
      "0.017650508694350718\n",
      "0.017671938240528106\n",
      "0.015473937429487706\n",
      "0.0175402769818902\n",
      "0.018244056217372417\n",
      "0.01832607910037041\n",
      "0.018262041360139848\n",
      "0.01767919920384884\n",
      "0.01895025297999382\n",
      "0.01645568832755089\n",
      "0.016859013028442858\n",
      "0.016990096494555473\n",
      "0.01802903413772583\n",
      "0.016227544844150545\n",
      "0.015805481933057308\n",
      "0.01832999773323536\n",
      "0.017553075030446053\n",
      "Doing epoch 1\n",
      "0.010605711489915848\n"
     ]
    },
    {
     "ename": "KeyboardInterrupt",
     "evalue": "",
     "output_type": "error",
     "traceback": [
      "\u001b[0;31m---------------------------------------------------------------------------\u001b[0m",
      "\u001b[0;31mKeyboardInterrupt\u001b[0m                         Traceback (most recent call last)",
      "\u001b[0;32m/var/folders/cx/500d947x7sz2w1kz1n78cgwr0000gn/T/ipykernel_98061/254240158.py\u001b[0m in \u001b[0;36m<module>\u001b[0;34m\u001b[0m\n\u001b[1;32m     16\u001b[0m         \u001b[0;31m# make step\u001b[0m\u001b[0;34m\u001b[0m\u001b[0;34m\u001b[0m\u001b[0;34m\u001b[0m\u001b[0m\n\u001b[1;32m     17\u001b[0m         \u001b[0moptimizer\u001b[0m\u001b[0;34m.\u001b[0m\u001b[0mzero_grad\u001b[0m\u001b[0;34m(\u001b[0m\u001b[0;34m)\u001b[0m\u001b[0;34m\u001b[0m\u001b[0;34m\u001b[0m\u001b[0m\n\u001b[0;32m---> 18\u001b[0;31m         \u001b[0mloss\u001b[0m\u001b[0;34m.\u001b[0m\u001b[0mbackward\u001b[0m\u001b[0;34m(\u001b[0m\u001b[0;34m)\u001b[0m\u001b[0;34m\u001b[0m\u001b[0;34m\u001b[0m\u001b[0m\n\u001b[0m\u001b[1;32m     19\u001b[0m         \u001b[0moptimizer\u001b[0m\u001b[0;34m.\u001b[0m\u001b[0mstep\u001b[0m\u001b[0;34m(\u001b[0m\u001b[0;34m)\u001b[0m\u001b[0;34m\u001b[0m\u001b[0;34m\u001b[0m\u001b[0m\n\u001b[1;32m     20\u001b[0m \u001b[0;34m\u001b[0m\u001b[0m\n",
      "\u001b[0;32m/usr/local/Caskroom/miniconda/base/envs/ada/lib/python3.8/site-packages/torch/_tensor.py\u001b[0m in \u001b[0;36mbackward\u001b[0;34m(self, gradient, retain_graph, create_graph, inputs)\u001b[0m\n\u001b[1;32m    361\u001b[0m                 \u001b[0mcreate_graph\u001b[0m\u001b[0;34m=\u001b[0m\u001b[0mcreate_graph\u001b[0m\u001b[0;34m,\u001b[0m\u001b[0;34m\u001b[0m\u001b[0;34m\u001b[0m\u001b[0m\n\u001b[1;32m    362\u001b[0m                 inputs=inputs)\n\u001b[0;32m--> 363\u001b[0;31m         \u001b[0mtorch\u001b[0m\u001b[0;34m.\u001b[0m\u001b[0mautograd\u001b[0m\u001b[0;34m.\u001b[0m\u001b[0mbackward\u001b[0m\u001b[0;34m(\u001b[0m\u001b[0mself\u001b[0m\u001b[0;34m,\u001b[0m \u001b[0mgradient\u001b[0m\u001b[0;34m,\u001b[0m \u001b[0mretain_graph\u001b[0m\u001b[0;34m,\u001b[0m \u001b[0mcreate_graph\u001b[0m\u001b[0;34m,\u001b[0m \u001b[0minputs\u001b[0m\u001b[0;34m=\u001b[0m\u001b[0minputs\u001b[0m\u001b[0;34m)\u001b[0m\u001b[0;34m\u001b[0m\u001b[0;34m\u001b[0m\u001b[0m\n\u001b[0m\u001b[1;32m    364\u001b[0m \u001b[0;34m\u001b[0m\u001b[0m\n\u001b[1;32m    365\u001b[0m     \u001b[0;32mdef\u001b[0m \u001b[0mregister_hook\u001b[0m\u001b[0;34m(\u001b[0m\u001b[0mself\u001b[0m\u001b[0;34m,\u001b[0m \u001b[0mhook\u001b[0m\u001b[0;34m)\u001b[0m\u001b[0;34m:\u001b[0m\u001b[0;34m\u001b[0m\u001b[0;34m\u001b[0m\u001b[0m\n",
      "\u001b[0;32m/usr/local/Caskroom/miniconda/base/envs/ada/lib/python3.8/site-packages/torch/autograd/__init__.py\u001b[0m in \u001b[0;36mbackward\u001b[0;34m(tensors, grad_tensors, retain_graph, create_graph, grad_variables, inputs)\u001b[0m\n\u001b[1;32m    171\u001b[0m     \u001b[0;31m# some Python versions print out the first line of a multi-line function\u001b[0m\u001b[0;34m\u001b[0m\u001b[0;34m\u001b[0m\u001b[0;34m\u001b[0m\u001b[0m\n\u001b[1;32m    172\u001b[0m     \u001b[0;31m# calls in the traceback and some print out the last line\u001b[0m\u001b[0;34m\u001b[0m\u001b[0;34m\u001b[0m\u001b[0;34m\u001b[0m\u001b[0m\n\u001b[0;32m--> 173\u001b[0;31m     Variable._execution_engine.run_backward(  # Calls into the C++ engine to run the backward pass\n\u001b[0m\u001b[1;32m    174\u001b[0m         \u001b[0mtensors\u001b[0m\u001b[0;34m,\u001b[0m \u001b[0mgrad_tensors_\u001b[0m\u001b[0;34m,\u001b[0m \u001b[0mretain_graph\u001b[0m\u001b[0;34m,\u001b[0m \u001b[0mcreate_graph\u001b[0m\u001b[0;34m,\u001b[0m \u001b[0minputs\u001b[0m\u001b[0;34m,\u001b[0m\u001b[0;34m\u001b[0m\u001b[0;34m\u001b[0m\u001b[0m\n\u001b[1;32m    175\u001b[0m         allow_unreachable=True, accumulate_grad=True)  # Calls into the C++ engine to run the backward pass\n",
      "\u001b[0;31mKeyboardInterrupt\u001b[0m: "
     ]
    }
   ],
   "source": [
    "train_input = train_noisy_imgs_input\n",
    "train_target = train_noisy_imgs_target\n",
    "batch_size = 32\n",
    "num_epochs = 5\n",
    "avg_loss = 0\n",
    "losses = []\n",
    "\n",
    "for e in range(num_epochs):\n",
    "    print('Doing epoch %d'%e)\n",
    "    for b, (input, target) in enumerate(zip(train_input.split(batch_size),\n",
    "                                            train_target.split(batch_size))):\n",
    "        output = torch_model(input)\n",
    "        loss = criterion(output, target)\n",
    "        avg_loss += loss.item()\n",
    "\n",
    "        # make step\n",
    "        optimizer.zero_grad()\n",
    "        loss.backward()\n",
    "        optimizer.step()\n",
    "\n",
    "        b_freq = 5\n",
    "        if b % b_freq == 0 and (b+e) > 0:\n",
    "            losses.append(avg_loss / b_freq)\n",
    "            avg_loss = 0\n",
    "            b % 50 == 0 and print(losses[-1])"
   ]
  },
  {
   "cell_type": "code",
   "execution_count": null,
   "id": "7d53b08a",
   "metadata": {},
   "outputs": [],
   "source": [
    "fig = plt.figure()\n",
    "plt.plot(losses)\n",
    "plt.xlabel('# batches/5')\n",
    "plt.ylabel('loss')\n",
    "plt.show()"
   ]
  },
  {
   "cell_type": "code",
   "execution_count": null,
   "id": "815e3816",
   "metadata": {},
   "outputs": [],
   "source": [
    "fig = plt.figure()\n",
    "plt.plot(losses)\n",
    "plt.yscale('log')\n",
    "plt.xlabel('# batches/5')\n",
    "plt.ylabel('loss')\n",
    "plt.show()"
   ]
  },
  {
   "cell_type": "code",
   "execution_count": null,
   "id": "25d26bf0",
   "metadata": {},
   "outputs": [],
   "source": [
    "test_input = validation_noisy_imgs\n",
    "test_target = validation_clean_imgs\n",
    "\n",
    "nr = 1\n",
    "denoised = torch_model(test_input[nr, :, :, :].unsqueeze(dim=0))\n",
    "\n",
    "fig, ax = plt.subplots(1, 3, figsize=(13,5))\n",
    "ax[0].imshow(test_input[nr,:,:,:].permute(1,2,0).cpu(), cmap='gray')\n",
    "ax[0].set_title('Input test')\n",
    "ax[1].imshow(denoised[0,:,:,:].permute(1,2,0).cpu().detach().numpy(), cmap='gray')\n",
    "ax[1].set_title('Our amaazing denoised output')\n",
    "ax[2].imshow(test_target[nr,:,:,:].permute(1,2,0).cpu(), cmap='gray')\n",
    "ax[2].set_title('Clean image')\n",
    "plt.show()"
   ]
  },
  {
   "cell_type": "code",
   "execution_count": null,
   "id": "a101a016",
   "metadata": {},
   "outputs": [],
   "source": [
    "denoised = torch_model(test_input)\n",
    "evaluate(denoised, test_target)"
   ]
  }
 ],
 "metadata": {
  "interpreter": {
   "hash": "61f371659e15671c4bf19c781ff73734bc385c323133a3685f5b4f679a2745d0"
  },
  "kernelspec": {
   "display_name": "Python 3.8.11 ('ada')",
   "language": "python",
   "name": "python3"
  },
  "language_info": {
   "codemirror_mode": {
    "name": "ipython",
    "version": 3
   },
   "file_extension": ".py",
   "mimetype": "text/x-python",
   "name": "python",
   "nbconvert_exporter": "python",
   "pygments_lexer": "ipython3",
   "version": "3.8.11"
  }
 },
 "nbformat": 4,
 "nbformat_minor": 5
}
