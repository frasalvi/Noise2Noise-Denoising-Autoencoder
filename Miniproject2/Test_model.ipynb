{
 "cells": [
  {
   "cell_type": "code",
   "execution_count": 1,
   "id": "34d5abe9",
   "metadata": {},
   "outputs": [],
   "source": [
    "from torch import load, save\n",
    "from importlib import reload\n"
   ]
  },
  {
   "cell_type": "code",
   "execution_count": 2,
   "id": "dd2ed794",
   "metadata": {},
   "outputs": [],
   "source": [
    "import model\n",
    "reload(model)\n",
    "Sequential = model.Sequential\n",
    "ReLU = model.ReLU\n",
    "Conv2d = model.Conv2d\n",
    "NNUpsampling = model.NNUpsampling\n",
    "Sigmoid = model.Sigmoid\n",
    "MSE = model.MSE\n",
    "Upsampling = model.Upsampling\n"
   ]
  },
  {
   "cell_type": "markdown",
   "id": "d4d85e09",
   "metadata": {},
   "source": [
    "# Load training data"
   ]
  },
  {
   "cell_type": "code",
   "execution_count": 3,
   "id": "4f69f7df",
   "metadata": {},
   "outputs": [],
   "source": [
    "# Load train data\n",
    "TRAIN_PATH = '../data/train_data.pkl'\n",
    "train_noisy_imgs_input, train_noisy_imgs_target = load(TRAIN_PATH)\n",
    "train_noisy_imgs_input = train_noisy_imgs_input/255\n",
    "train_noisy_imgs_target = train_noisy_imgs_target/255\n",
    "training_set_size,num_channels,y_size,x_size = train_noisy_imgs_input.shape"
   ]
  },
  {
   "cell_type": "code",
   "execution_count": 4,
   "id": "0806b0bd",
   "metadata": {},
   "outputs": [],
   "source": [
    "class Model():\n",
    "    def __init__(self, in_channels=3, out_channels=3, lr=1e-3):\n",
    "        # instantiate model + optimizer + loss function + any other stuff you need\n",
    "        self.model = Sequential(\n",
    "                        Conv2d(in_channels=in_channels, out_channels=16, kernel_size=3, stride=2, padding=1),\n",
    "                        ReLU(),\n",
    "                        Conv2d(in_channels=16, out_channels=32, kernel_size=3, stride=2, padding=1),\n",
    "                        ReLU(),\n",
    "                        Upsampling(scale_factor=2, in_channels=32, out_channels=16, kernel_size=3, stride=1, padding=1),\n",
    "                        ReLU(),\n",
    "                        Upsampling(scale_factor=2, in_channels=16, out_channels=out_channels, kernel_size=3, stride=1, padding=1),\n",
    "                        Sigmoid()\n",
    "                        )\n",
    "        self.criterion = MSE()\n",
    "        self.lr = lr\n",
    "\n",
    "    def load_pretrained_model(self):\n",
    "        ## This loads the parameters saved in bestmodel.pth into the model\n",
    "        self.model = load('bestmodel.pth')\n",
    "\n",
    "    def train(self, train_input, train_target):\n",
    "        # train ̇input: tensor of size (N, C, H, W) containing a noisy version of the images.\n",
    "        # train target: tensor of size (N, C, H, W) containing another noisy version of the\n",
    "        # same images, which only differs from the input by their noise.\n",
    "        batch_size = 32\n",
    "        nb_epochs = 1\n",
    "        self.losses = []\n",
    "        avg_loss = 0\n",
    "\n",
    "        for e in range(nb_epochs):\n",
    "            print('Doing epoch %d'%e)\n",
    "            for b in range(0, train_input.size(0), batch_size):\n",
    "                if b % 5 == 0 and (b+e) > 0:\n",
    "                    self.losses.append(avg_loss/5)\n",
    "                    avg_loss = 0\n",
    "                    b%50 ==0 and print(self.losses[-1])\n",
    "                # forward pass\n",
    "                output = self.model(train_input[b:b+batch_size])\n",
    "                loss = self.criterion(output, train_target[b:b+batch_size])\n",
    "                avg_loss+=loss.item()\n",
    "                # make step\n",
    "                self.model.zero_grad()\n",
    "                gradient = self.criterion.backward()\n",
    "                gradient = self.model.backward(gradient)\n",
    "                for (parameter,_) in self.model.param():\n",
    "                    parameter -= parameter.grad*self.lr\n",
    "\n",
    "    def predict(self, test_input):\n",
    "        #:test ̇input: tensor of size (N1, C, H, W) that has to be denoised by the trained\n",
    "        # or the loaded network.\n",
    "        #: returns a tensor of the size (N1, C, H, W)\n",
    "        return self.model(test_input)"
   ]
  },
  {
   "cell_type": "code",
   "execution_count": 5,
   "id": "40c11146",
   "metadata": {
    "scrolled": false
   },
   "outputs": [
    {
     "name": "stdout",
     "output_type": "stream",
     "text": [
      "Doing epoch 0\n",
      "0.2771243453025818\n",
      "0.2799091160297394\n",
      "0.2868725538253784\n",
      "0.27723228931427\n",
      "0.288811582326889\n",
      "0.2884644627571106\n",
      "0.2818488359451294\n",
      "0.2877740740776062\n",
      "0.2879298567771912\n",
      "0.28041521906852723\n",
      "0.2881928086280823\n",
      "0.28553634881973267\n",
      "0.29234575629234316\n",
      "0.27589080929756166\n",
      "0.2855688512325287\n",
      "0.27527101039886476\n",
      "0.2889546513557434\n",
      "0.2780523419380188\n",
      "0.2950819194316864\n",
      "0.2760018646717072\n",
      "0.279107528924942\n",
      "0.2820999264717102\n",
      "0.2749731123447418\n",
      "0.2780317187309265\n",
      "0.2899002194404602\n",
      "0.29160929322242735\n",
      "0.28477885127067565\n",
      "0.2852858483791351\n",
      "0.2871181845664978\n",
      "0.2888992130756378\n",
      "0.2829789876937866\n",
      "0.28855410814285276\n",
      "0.2922124683856964\n",
      "0.2871758222579956\n",
      "0.28253173828125\n",
      "0.2731612741947174\n",
      "0.28502439260482787\n",
      "0.2944347083568573\n",
      "0.2826573610305786\n",
      "0.2892374455928802\n",
      "0.2863263666629791\n",
      "0.2796819269657135\n",
      "0.2830905616283417\n",
      "0.29826643466949465\n",
      "0.2850550651550293\n",
      "0.29186041951179503\n",
      "0.28835591673851013\n",
      "0.28432453274726865\n",
      "0.281721419095993\n",
      "0.28194077014923097\n",
      "0.2820677816867828\n",
      "0.2811545550823212\n",
      "0.2827467441558838\n",
      "0.2836927056312561\n",
      "0.2830051839351654\n",
      "0.2847842276096344\n",
      "0.27755520343780515\n",
      "0.2740911066532135\n",
      "0.2907476186752319\n",
      "0.28924618363380433\n",
      "0.2845231473445892\n",
      "0.29793912172317505\n"
     ]
    }
   ],
   "source": [
    "ourModel = Model()\n",
    "ourModel.train(train_noisy_imgs_input, train_noisy_imgs_target)"
   ]
  },
  {
   "cell_type": "code",
   "execution_count": 13,
   "id": "25e4cde7",
   "metadata": {},
   "outputs": [
    {
     "data": {
      "text/plain": [
       "Text(0, 0.5, 'loss')"
      ]
     },
     "execution_count": 13,
     "metadata": {},
     "output_type": "execute_result"
    },
    {
     "data": {
      "image/png": "[encoded data removed]",
      "text/plain": [
       "<Figure size 432x288 with 1 Axes>"
      ]
     },
     "metadata": {
      "needs_background": "light"
     },
     "output_type": "display_data"
    }
   ],
   "source": [
    "import matplotlib.pyplot as plt\n",
    "fig = plt.figure()\n",
    "plt.plot(ourModel.losses)\n",
    "plt.xlabel('# batches/5')\n",
    "plt.ylabel('loss')"
   ]
  },
  {
   "cell_type": "code",
   "execution_count": 15,
   "id": "c8f340ea",
   "metadata": {},
   "outputs": [
    {
     "data": {
      "text/plain": [
       "Text(0.5, 1.0, 'Target')"
      ]
     },
     "execution_count": 15,
     "metadata": {},
     "output_type": "execute_result"
    },
    {
     "data": {
      "image/png": "[encoded data removed]",
      "text/plain": [
       "<Figure size 936x360 with 3 Axes>"
      ]
     },
     "metadata": {
      "needs_background": "light"
     },
     "output_type": "display_data"
    }
   ],
   "source": [
    "test_input = train_noisy_imgs_input\n",
    "\n",
    "nr = 1\n",
    "denoised = ourModel.predict(test_input[nr,:,:,:].unsqueeze(dim=0))\n",
    "\n",
    "fig, ax = plt.subplots(1,3,figsize=(13,5))\n",
    "ax[0].imshow(test_input[nr,0,:,:].cpu(), cmap='gray')\n",
    "ax[0].set_title('Input test')\n",
    "ax[1].imshow(denoised[0,0,:,:].cpu().detach().numpy(), cmap='gray')\n",
    "ax[1].set_title('Our amaazing denoised output')\n",
    "ax[2].imshow(test_input[nr,0,:,:].cpu(), cmap='gray')\n",
    "ax[2].set_title('Target')"
   ]
  },
  {
   "cell_type": "code",
   "execution_count": 17,
   "id": "dbc7dddc",
   "metadata": {},
   "outputs": [
    {
     "name": "stdout",
     "output_type": "stream",
     "text": [
      "'bestmodel.pt)' was not found in history, as a file, url, nor in the user namespace.\n"
     ]
    }
   ],
   "source": [
    "save(ourModel.model, 'bestmodel.pt')"
   ]
  },
  {
   "cell_type": "code",
   "execution_count": null,
   "id": "0dfae956",
   "metadata": {},
   "outputs": [],
   "source": []
  },
  {
   "cell_type": "code",
   "execution_count": null,
   "id": "8b6aa1f5",
   "metadata": {},
   "outputs": [],
   "source": [
    "flatten(y)"
   ]
  },
  {
   "cell_type": "code",
   "execution_count": null,
   "id": "d4a12258",
   "metadata": {},
   "outputs": [],
   "source": [
    "x = zeros(3,4)"
   ]
  },
  {
   "cell_type": "code",
   "execution_count": null,
   "id": "45f21363",
   "metadata": {},
   "outputs": [],
   "source": [
    "x"
   ]
  },
  {
   "cell_type": "code",
   "execution_count": null,
   "id": "77891da8",
   "metadata": {},
   "outputs": [],
   "source": [
    "print('before: ',x.shape)"
   ]
  },
  {
   "cell_type": "code",
   "execution_count": null,
   "id": "cbcad328",
   "metadata": {},
   "outputs": [],
   "source": []
  }
 ],
 "metadata": {
  "interpreter": {
   "hash": "61f371659e15671c4bf19c781ff73734bc385c323133a3685f5b4f679a2745d0"
  },
  "kernelspec": {
   "display_name": "Python 3.8.11 ('ada')",
   "language": "python",
   "name": "python3"
  },
  "language_info": {
   "codemirror_mode": {
    "name": "ipython",
    "version": 3
   },
   "file_extension": ".py",
   "mimetype": "text/x-python",
   "name": "python",
   "nbconvert_exporter": "python",
   "pygments_lexer": "ipython3",
   "version": "3.8.11"
  }
 },
 "nbformat": 4,
 "nbformat_minor": 5
}
